{
 "cells": [
  {
   "cell_type": "code",
   "execution_count": 1,
   "metadata": {},
   "outputs": [],
   "source": [
    "%load_ext autoreload\n",
    "%autoreload 2\n",
    "\n",
    "%matplotlib inline"
   ]
  },
  {
   "cell_type": "code",
   "execution_count": 2,
   "metadata": {},
   "outputs": [],
   "source": [
    "#export\n",
    "from exp.nb_02 import *"
   ]
  },
  {
   "cell_type": "code",
   "execution_count": 3,
   "metadata": {},
   "outputs": [],
   "source": [
    "path= Path('../PCImages')\n",
    "path2fm= '../FeatureMatsMerged/TheGreatCollection.txt'\n",
    "path2colnames= 'FeatureMatIndex.txt'"
   ]
  },
  {
   "cell_type": "code",
   "execution_count": 4,
   "metadata": {},
   "outputs": [
    {
     "data": {
      "text/plain": [
       "(56657, 105)"
      ]
     },
     "execution_count": 4,
     "metadata": {},
     "output_type": "execute_result"
    }
   ],
   "source": [
    "fm= fm_from_txt(path2fm, path2colnames)\n",
    "fm.shape"
   ]
  },
  {
   "cell_type": "code",
   "execution_count": 165,
   "metadata": {},
   "outputs": [
    {
     "data": {
      "text/plain": [
       "44"
      ]
     },
     "execution_count": 165,
     "metadata": {},
     "output_type": "execute_result"
    }
   ],
   "source": [
    "cols= ['id','date','time','label1','label2','label3','ind','wallcrash','temp','LP','HL',\n",
    "       't_stretch','t_relax','framecut','fps','medium','passage', 'ms_ch1','mf_ch1',\n",
    "       'mf_real_ch1','cv_nn_ch1','cvn_ch1','ms_ch2','mf_ch2','mf_real_ch2','cv_nn_ch2','cvn_ch2']\n",
    "cols_filtered= [c for c in fm.columns if c not in cols]\n",
    "cols_filtered= [c for c in cols_filtered if '2s' not in c]\n",
    "len(cols_filtered)"
   ]
  },
  {
   "cell_type": "code",
   "execution_count": 188,
   "metadata": {},
   "outputs": [],
   "source": [
    "#export\n",
    "def get_filtered_cols(df, cols2keep=None):\n",
    "    if cols2keep is None:\n",
    "        cols= ['id','date','time','label1','label2','label3','ind','wallcrash','temp','LP','HL',\n",
    "           't_stretch','t_relax','framecut','fps','medium','passage', 'ms_ch1','mf_ch1',\n",
    "           'mf_real_ch1','cv_nn_ch1','cvn_ch1','ms_ch2','mf_ch2','mf_real_ch2','cv_nn_ch2','cvn_ch2']\n",
    "    else: cols= cols2keep\n",
    "    cols= [c for c in df.columns if c not in cols]\n",
    "    return [c for c in cols if '2s' not in c]"
   ]
  },
  {
   "cell_type": "code",
   "execution_count": 186,
   "metadata": {},
   "outputs": [
    {
     "data": {
      "text/plain": [
       "44"
      ]
     },
     "execution_count": 186,
     "metadata": {},
     "output_type": "execute_result"
    }
   ],
   "source": [
    "cols_filtered= get_filtered_cols(fm)\n",
    "len(cols_filtered)"
   ]
  },
  {
   "cell_type": "code",
   "execution_count": 1,
   "metadata": {},
   "outputs": [
    {
     "ename": "NameError",
     "evalue": "name 'Dataset' is not defined",
     "output_type": "error",
     "traceback": [
      "\u001b[0;31m---------------------------------------------------------------------------\u001b[0m",
      "\u001b[0;31mNameError\u001b[0m                                 Traceback (most recent call last)",
      "\u001b[0;32m<ipython-input-1-0b8b3526408a>\u001b[0m in \u001b[0;36m<module>\u001b[0;34m\u001b[0m\n\u001b[1;32m      1\u001b[0m \u001b[0;31m#export\u001b[0m\u001b[0;34m\u001b[0m\u001b[0;34m\u001b[0m\u001b[0;34m\u001b[0m\u001b[0m\n\u001b[0;32m----> 2\u001b[0;31m \u001b[0;32mclass\u001b[0m \u001b[0mCellDataSet\u001b[0m\u001b[0;34m(\u001b[0m\u001b[0mDataset\u001b[0m\u001b[0;34m)\u001b[0m\u001b[0;34m:\u001b[0m\u001b[0;34m\u001b[0m\u001b[0;34m\u001b[0m\u001b[0m\n\u001b[0m\u001b[1;32m      3\u001b[0m     def __init__(self, path, fm, cols2keep, label = 'label1', cell_phase = None, trfms=None, \n\u001b[1;32m      4\u001b[0m                  random_sample=None):\n\u001b[1;32m      5\u001b[0m         \u001b[0mself\u001b[0m\u001b[0;34m.\u001b[0m\u001b[0mfm\u001b[0m \u001b[0;34m=\u001b[0m \u001b[0mfm\u001b[0m\u001b[0;34m\u001b[0m\u001b[0;34m\u001b[0m\u001b[0m\n",
      "\u001b[0;31mNameError\u001b[0m: name 'Dataset' is not defined"
     ]
    }
   ],
   "source": [
    "#export\n",
    "class CellDataSet(Dataset):\n",
    "    def __init__(self, path, fm, cols2keep, label = 'label1', cell_phase = None, trfms=None, \n",
    "                 random_sample=None):\n",
    "        self.fm = fm\n",
    "        self.cols2keep= cols2keep\n",
    "        self.y = self.fm[label]\n",
    "        self.id2label= id2label(self.fm.id, self.y)\n",
    "        if cell_phase is None:\n",
    "            self.data_files = get_filtered_files(path, img_ids=self.fm.id, labels=self.y) \n",
    "        else: \n",
    "            self.data_files= [\n",
    "                f for f in get_filtered_files(path, img_ids=self.fm.id, labels=self.y) if cell_phase in str(f)\n",
    "            ]\n",
    "        if random_sample is not None: self.data_files= random.sample(self.data_files, random_sample)\n",
    "        self.trfms = get_trfms(trfms)\n",
    "        \n",
    "    def __getindex__(self, idx):\n",
    "        return load_file(self.data_files[idx])\n",
    "\n",
    "    def __len__(self):\n",
    "        return len(self.data_files)\n",
    "    \n",
    "    def get_row(self, img_id):\n",
    "        x_np= np.array(self.fm.loc[self.fm['id'].isin([img_id])][self.cols2keep]).flatten() \n",
    "        return torch.cuda.FloatTensor(x_np)\n",
    "    \n",
    "    def __getitem__(self, idx):\n",
    "        if torch.is_tensor(idx):\n",
    "            idx = idx.tolist()\n",
    "        \n",
    "        img_name  = self.data_files[idx]\n",
    "        img_id, phase = split_fn(img_name)\n",
    "        label=          self.id2label[img_id]\n",
    "        image =         PIL.Image.open(img_name)\n",
    "        fm_row=         self.get_row(img_id)\n",
    "\n",
    "        if self.trfms:\n",
    "            image = self.trfms(image)\n",
    "\n",
    "        return image, fm_row, label"
   ]
  },
  {
   "cell_type": "code",
   "execution_count": 21,
   "metadata": {},
   "outputs": [],
   "source": [
    "#export\n",
    "import torch.nn.functional as F"
   ]
  },
  {
   "cell_type": "markdown",
   "metadata": {},
   "source": [
    "# Concatenate models:"
   ]
  },
  {
   "cell_type": "code",
   "execution_count": 23,
   "metadata": {},
   "outputs": [],
   "source": [
    "#export\n",
    "class Learner():\n",
    "    def __init__(self, dataset, model):\n",
    "        self.ds= dataset \n",
    "        self.img_size, self.c= self.ds[0][0].shape[0], len(np.unique(self.ds.y))\n",
    "        self.model= model #get_model(model.cuda(), image_size=self.img_size, c=self.c)\n",
    "        self.loss= nn.CrossEntropyLoss()\n",
    "        \n",
    "    def fit(self, epochs=1, bs=32, lr = 1e-5):\n",
    "        opt= torch.optim.Adam(self.model.parameters(), lr=lr)\n",
    "        train_dl, valid_dl= ds2dls(self.ds, bs=bs)\n",
    "        for epoch in range(epochs):\n",
    "            self.model.train()\n",
    "            for img_xb, data_xb, yb in train_dl:\n",
    "                img_xb=  img_xb.to(device)\n",
    "                data_xb= data_xb.to(device)\n",
    "                yb= yb.to(device)\n",
    "                loss = self.loss(self.model(img_xb, data_xb), yb)\n",
    "                loss.backward()\n",
    "                opt.step()\n",
    "                opt.zero_grad()\n",
    "\n",
    "            self.model.eval()\n",
    "            with torch.no_grad():\n",
    "                tot_loss,tot_acc = 0.,0.\n",
    "                for img_xb, data_xb, yb in valid_dl:\n",
    "                    img_xb=  img_xb.to(device)\n",
    "                    data_xb= data_xb.to(device)\n",
    "                    yb= yb.to(device)\n",
    "                    pred = self.model(img_xb, data_xb)\n",
    "                    pred= pred.to(device)\n",
    "                    tot_loss += self.loss(pred, yb)\n",
    "                    tot_acc  += accuracy(pred,yb)\n",
    "            nv = len(valid_dl)\n",
    "            print(epoch, tot_loss/nv, tot_acc/nv)\n",
    "        #return tot_loss/nv, tot_acc/nv"
   ]
  },
  {
   "cell_type": "markdown",
   "metadata": {},
   "source": [
    "## Model for the feature matrix: "
   ]
  },
  {
   "cell_type": "code",
   "execution_count": 166,
   "metadata": {},
   "outputs": [],
   "source": [
    "class FeatureMatrixModel(nn.Module):\n",
    "    def __init__(self, n_in, n_out):\n",
    "        super().__init__()\n",
    "        self.n_in = n_in\n",
    "        self.lin1 = nn.Linear(self.n_in, 200)\n",
    "        self.lin2 = nn.Linear(200, 70)\n",
    "        self.lin3 = nn.Linear(70, n_out)\n",
    "        self.bn1 = nn.BatchNorm1d(self.n_in)\n",
    "        self.bn2 = nn.BatchNorm1d(200)\n",
    "        self.bn3 = nn.BatchNorm1d(70)\n",
    "        self.drops = nn.Dropout(0.3)\n",
    "        \n",
    "\n",
    "    def forward(self, x_cont):\n",
    "        x = self.bn1(x_cont)\n",
    "        x = F.relu(self.lin1(x))\n",
    "        x = self.drops(x)\n",
    "        x = self.bn2(x)\n",
    "        x = F.relu(self.lin2(x))\n",
    "        x = self.drops(x)\n",
    "        x = self.bn3(x)\n",
    "        x = self.lin3(x)\n",
    "        return x"
   ]
  },
  {
   "cell_type": "code",
   "execution_count": 169,
   "metadata": {},
   "outputs": [],
   "source": [
    "class CombinedModel(nn.Module):\n",
    "    def __init__(self, n_out_cnn=50, n_out_data=50):\n",
    "        super(CombinedModel, self).__init__()\n",
    "        self.n_out_cnn, self.n_out_data= n_out_cnn, n_out_data\n",
    "        self.n_out= self.n_out_cnn + self.n_out_data\n",
    "        self.n_classes= 7\n",
    "        \n",
    "        self.fc0= Resize(350).cuda()\n",
    "        self.cnn = models.resnet34(pretrained=True).cuda()\n",
    "        self.cnn.conv1= nn.Conv2d(1, 64, kernel_size=(7, 7), stride=(2, 2), padding=(3, 3), bias=False).cuda()\n",
    "        self.cnn.fc= nn.Linear(in_features=512, out_features=self.n_out_cnn).cuda()\n",
    "        self.fm_net= FeatureMatrixModel(len(cols_filtered), self.n_out_data).cuda()\n",
    "        self.fc1 = nn.Linear(self.n_out, self.n_classes).cuda()\n",
    "        \n",
    "    def forward(self, image, data):\n",
    "        x1 = self.cnn(self.fc0(image))\n",
    "        x2 = self.fm_net(data)\n",
    "        x = torch.cat((x1, x2), dim=1) \n",
    "        x = F.relu(x)\n",
    "        x = self.fc1(x)\n",
    "        return x"
   ]
  },
  {
   "cell_type": "markdown",
   "metadata": {},
   "source": [
    "### Ratio of model outputs:"
   ]
  },
  {
   "cell_type": "code",
   "execution_count": 170,
   "metadata": {},
   "outputs": [
    {
     "name": "stdout",
     "output_type": "stream",
     "text": [
      "0 tensor(1.2839, device='cuda:0') tensor(0.6000, device='cuda:0')\n"
     ]
    }
   ],
   "source": [
    "ds= CellDataSet(path, fm, cols_filtered, label = 'label1', cell_phase = None, \n",
    "               trfms= [CenterCrop(size=350), \n",
    "                       transforms.Grayscale(num_output_channels=1), \n",
    "                       ToFloatTensor()], \n",
    "               random_sample=1000)\n",
    "learn= Learner(ds, CombinedModel(50,10))\n",
    "learn.fit(1, bs=8, lr=1e-5)"
   ]
  },
  {
   "cell_type": "code",
   "execution_count": 171,
   "metadata": {},
   "outputs": [
    {
     "name": "stdout",
     "output_type": "stream",
     "text": [
      "0 tensor(1.2610, device='cuda:0') tensor(0.5950, device='cuda:0')\n"
     ]
    }
   ],
   "source": [
    "ds= CellDataSet(path, fm, cols_filtered, label = 'label1', cell_phase = None, \n",
    "               trfms= [CenterCrop(size=350), \n",
    "                       transforms.Grayscale(num_output_channels=1), \n",
    "                       ToFloatTensor()], \n",
    "               random_sample=1000)\n",
    "learn= Learner(ds, CombinedModel(100,10))\n",
    "learn.fit(1, bs=8, lr=1e-5)"
   ]
  },
  {
   "cell_type": "code",
   "execution_count": 172,
   "metadata": {},
   "outputs": [
    {
     "name": "stdout",
     "output_type": "stream",
     "text": [
      "0 tensor(1.3976, device='cuda:0') tensor(0.5750, device='cuda:0')\n"
     ]
    }
   ],
   "source": [
    "ds= CellDataSet(path, fm, cols_filtered, label = 'label1', cell_phase = None, \n",
    "               trfms= [CenterCrop(size=350), \n",
    "                       transforms.Grayscale(num_output_channels=1), \n",
    "                       ToFloatTensor()], \n",
    "               random_sample=1000)\n",
    "learn= Learner(ds, CombinedModel(100,100))\n",
    "learn.fit(1, bs=8, lr=1e-5)"
   ]
  },
  {
   "cell_type": "code",
   "execution_count": 173,
   "metadata": {},
   "outputs": [
    {
     "name": "stdout",
     "output_type": "stream",
     "text": [
      "0 tensor(1.5031, device='cuda:0') tensor(0.5750, device='cuda:0')\n"
     ]
    }
   ],
   "source": [
    "ds= CellDataSet(path, fm, cols_filtered, label = 'label1', cell_phase = None, \n",
    "               trfms= [CenterCrop(size=350), \n",
    "                       transforms.Grayscale(num_output_channels=1), \n",
    "                       ToFloatTensor()], \n",
    "               random_sample=1000)\n",
    "learn= Learner(ds, CombinedModel(20,10))\n",
    "learn.fit(1, bs=8, lr=1e-5)"
   ]
  },
  {
   "cell_type": "code",
   "execution_count": 174,
   "metadata": {},
   "outputs": [
    {
     "name": "stdout",
     "output_type": "stream",
     "text": [
      "0 tensor(1.4958, device='cuda:0') tensor(0.5950, device='cuda:0')\n"
     ]
    }
   ],
   "source": [
    "ds= CellDataSet(path, fm, cols_filtered, label = 'label1', cell_phase = None, \n",
    "               trfms= [CenterCrop(size=350), \n",
    "                       transforms.Grayscale(num_output_channels=1), \n",
    "                       ToFloatTensor()], \n",
    "               random_sample=1000)\n",
    "learn= Learner(ds, CombinedModel(50,40))\n",
    "learn.fit(1, bs=8, lr=1e-5)"
   ]
  },
  {
   "cell_type": "code",
   "execution_count": 175,
   "metadata": {},
   "outputs": [
    {
     "name": "stdout",
     "output_type": "stream",
     "text": [
      "0 tensor(1.4537, device='cuda:0') tensor(0.5900, device='cuda:0')\n"
     ]
    }
   ],
   "source": [
    "ds= CellDataSet(path, fm, cols_filtered, label = 'label1', cell_phase = None, \n",
    "               trfms= [CenterCrop(size=350), \n",
    "                       transforms.Grayscale(num_output_channels=1), \n",
    "                       ToFloatTensor()], \n",
    "               random_sample=1000)\n",
    "learn= Learner(ds, CombinedModel(50,20))\n",
    "learn.fit(1, bs=8, lr=1e-5)"
   ]
  },
  {
   "cell_type": "markdown",
   "metadata": {},
   "source": [
    "### Dropout:"
   ]
  },
  {
   "cell_type": "code",
   "execution_count": 177,
   "metadata": {},
   "outputs": [],
   "source": [
    "#export\n",
    "class FeatureMatrixModel(nn.Module):\n",
    "    def __init__(self, n_in, n_out, p):\n",
    "        super().__init__()\n",
    "        self.n_in = n_in\n",
    "        self.lin1 = nn.Linear(self.n_in, 200)\n",
    "        self.lin2 = nn.Linear(200, 70)\n",
    "        self.lin3 = nn.Linear(70, n_out)\n",
    "        self.bn1 = nn.BatchNorm1d(self.n_in)\n",
    "        self.bn2 = nn.BatchNorm1d(200)\n",
    "        self.bn3 = nn.BatchNorm1d(70)\n",
    "        self.drops = nn.Dropout(p)\n",
    "        \n",
    "\n",
    "    def forward(self, x_cont):\n",
    "        x = self.bn1(x_cont)\n",
    "        x = F.relu(self.lin1(x))\n",
    "        x = self.drops(x)\n",
    "        x = self.bn2(x)\n",
    "        x = F.relu(self.lin2(x))\n",
    "        x = self.drops(x)\n",
    "        x = self.bn3(x)\n",
    "        x = self.lin3(x)\n",
    "        return x"
   ]
  },
  {
   "cell_type": "code",
   "execution_count": 191,
   "metadata": {},
   "outputs": [],
   "source": [
    "#export\n",
    "class CombinedModel(nn.Module):\n",
    "    def __init__(self, n_out_cnn=50, n_out_data=50, p=0.5, n_features=44):\n",
    "        super(CombinedModel, self).__init__()\n",
    "        self.n_features= n_features\n",
    "        self.n_out_cnn, self.n_out_data= n_out_cnn, n_out_data\n",
    "        self.n_out= self.n_out_cnn + self.n_out_data\n",
    "        self.n_classes= 7\n",
    "        \n",
    "        self.fc0= Resize(350).cuda()\n",
    "        self.cnn = models.resnet34(pretrained=True).cuda()\n",
    "        self.cnn.conv1= nn.Conv2d(1, 64, kernel_size=(7, 7), stride=(2, 2), padding=(3, 3), bias=False).cuda()\n",
    "        self.cnn.fc= nn.Linear(in_features=512, out_features=self.n_out_cnn).cuda()\n",
    "        self.fm_net= FeatureMatrixModel(n_features, self.n_out_data, p).cuda()\n",
    "        self.fc1 = nn.Linear(self.n_out, self.n_classes).cuda()\n",
    "        \n",
    "    def forward(self, image, data):\n",
    "        x1 = self.cnn(self.fc0(image))\n",
    "        x2 = self.fm_net(data)\n",
    "        x = torch.cat((x1, x2), dim=1) \n",
    "        x = F.relu(x)\n",
    "        x = self.fc1(x)\n",
    "        return x"
   ]
  },
  {
   "cell_type": "code",
   "execution_count": 179,
   "metadata": {},
   "outputs": [
    {
     "name": "stdout",
     "output_type": "stream",
     "text": [
      "0 tensor(1.4163, device='cuda:0') tensor(0.6500, device='cuda:0')\n"
     ]
    }
   ],
   "source": [
    "ds= CellDataSet(path, fm, cols_filtered, label = 'label1', cell_phase = None, \n",
    "               trfms= [CenterCrop(size=350), \n",
    "                       transforms.Grayscale(num_output_channels=1), \n",
    "                       ToFloatTensor()], \n",
    "               random_sample=1000)\n",
    "learn= Learner(ds, CombinedModel(50,10, p=0.5))\n",
    "learn.fit(1, bs=8, lr=1e-5)"
   ]
  },
  {
   "cell_type": "code",
   "execution_count": 180,
   "metadata": {},
   "outputs": [
    {
     "name": "stdout",
     "output_type": "stream",
     "text": [
      "0 tensor(1.3898, device='cuda:0') tensor(0.6800, device='cuda:0')\n"
     ]
    }
   ],
   "source": [
    "ds= CellDataSet(path, fm, cols_filtered, label = 'label1', cell_phase = None, \n",
    "               trfms= [CenterCrop(size=350), \n",
    "                       transforms.Grayscale(num_output_channels=1), \n",
    "                       ToFloatTensor()], \n",
    "               random_sample=1000)\n",
    "learn= Learner(ds, CombinedModel(50,10, p=0.7))\n",
    "learn.fit(1, bs=8, lr=1e-5)"
   ]
  },
  {
   "cell_type": "code",
   "execution_count": 181,
   "metadata": {},
   "outputs": [
    {
     "name": "stdout",
     "output_type": "stream",
     "text": [
      "0 tensor(1.4486, device='cuda:0') tensor(0.6850, device='cuda:0')\n"
     ]
    }
   ],
   "source": [
    "ds= CellDataSet(path, fm, cols_filtered, label = 'label1', cell_phase = None, \n",
    "               trfms= [CenterCrop(size=350), \n",
    "                       transforms.Grayscale(num_output_channels=1), \n",
    "                       ToFloatTensor()], \n",
    "               random_sample=1000)\n",
    "learn= Learner(ds, CombinedModel(50,10, p=0.8))\n",
    "learn.fit(1, bs=8, lr=1e-5)"
   ]
  },
  {
   "cell_type": "code",
   "execution_count": 182,
   "metadata": {},
   "outputs": [
    {
     "name": "stdout",
     "output_type": "stream",
     "text": [
      "0 tensor(1.4012, device='cuda:0') tensor(0.5650, device='cuda:0')\n",
      "1 tensor(1.1414, device='cuda:0') tensor(0.5950, device='cuda:0')\n",
      "2 tensor(1.0009, device='cuda:0') tensor(0.6250, device='cuda:0')\n",
      "3 tensor(0.9223, device='cuda:0') tensor(0.6650, device='cuda:0')\n",
      "4 tensor(0.8934, device='cuda:0') tensor(0.6750, device='cuda:0')\n",
      "5 tensor(0.8145, device='cuda:0') tensor(0.7250, device='cuda:0')\n",
      "6 tensor(1.0381, device='cuda:0') tensor(0.6350, device='cuda:0')\n",
      "7 tensor(0.7669, device='cuda:0') tensor(0.7300, device='cuda:0')\n"
     ]
    }
   ],
   "source": [
    "ds= CellDataSet(path, fm, cols_filtered, label = 'label1', cell_phase = None, \n",
    "               trfms= [CenterCrop(size=350), \n",
    "                       transforms.Grayscale(num_output_channels=1), \n",
    "                       ToFloatTensor()], \n",
    "               random_sample=1000)\n",
    "learn= Learner(ds, CombinedModel(50,10, p=0.8))\n",
    "learn.fit(8, bs=8, lr=1e-5)"
   ]
  },
  {
   "cell_type": "code",
   "execution_count": 183,
   "metadata": {},
   "outputs": [
    {
     "name": "stdout",
     "output_type": "stream",
     "text": [
      "0 tensor(1.3394, device='cuda:0') tensor(0.6050, device='cuda:0')\n",
      "1 tensor(1.0431, device='cuda:0') tensor(0.6500, device='cuda:0')\n",
      "2 tensor(0.9430, device='cuda:0') tensor(0.7150, device='cuda:0')\n",
      "3 tensor(0.8624, device='cuda:0') tensor(0.7050, device='cuda:0')\n",
      "4 tensor(0.8077, device='cuda:0') tensor(0.7400, device='cuda:0')\n",
      "5 tensor(0.7854, device='cuda:0') tensor(0.7350, device='cuda:0')\n",
      "6 tensor(0.7664, device='cuda:0') tensor(0.7450, device='cuda:0')\n",
      "7 tensor(0.7446, device='cuda:0') tensor(0.7500, device='cuda:0')\n"
     ]
    }
   ],
   "source": [
    "ds= CellDataSet(path, fm, cols_filtered, label = 'label1', cell_phase = None, \n",
    "               trfms= [CenterCrop(size=350), \n",
    "                       transforms.Grayscale(num_output_channels=1), \n",
    "                       ToFloatTensor()], \n",
    "               random_sample=1000)\n",
    "learn= Learner(ds, CombinedModel(50,10, p=0.5))\n",
    "learn.fit(8, bs=8, lr=1e-5)"
   ]
  },
  {
   "cell_type": "code",
   "execution_count": 184,
   "metadata": {},
   "outputs": [
    {
     "name": "stdout",
     "output_type": "stream",
     "text": [
      "0 tensor(0.2452, device='cuda:0') tensor(0.9099, device='cuda:0')\n"
     ]
    }
   ],
   "source": [
    "ds= CellDataSet(path, fm, cols_filtered, label = 'label1', cell_phase = None, \n",
    "               trfms= [CenterCrop(size=350), \n",
    "                       transforms.Grayscale(num_output_channels=1), \n",
    "                       ToFloatTensor()], \n",
    "               random_sample=None)\n",
    "learn= Learner(ds, CombinedModel(50,10, p=0.5))\n",
    "learn.fit(1, bs=8, lr=1e-5)"
   ]
  },
  {
   "cell_type": "code",
   "execution_count": 192,
   "metadata": {},
   "outputs": [
    {
     "name": "stdout",
     "output_type": "stream",
     "text": [
      "Converted 03_combined_model.ipynb to exp/nb_03.py\r\n"
     ]
    }
   ],
   "source": [
    "!python notebook2script.py 03_combined_model.ipynb"
   ]
  },
  {
   "cell_type": "code",
   "execution_count": null,
   "metadata": {},
   "outputs": [],
   "source": []
  }
 ],
 "metadata": {
  "kernelspec": {
   "display_name": "Python 3",
   "language": "python",
   "name": "python3"
  },
  "language_info": {
   "codemirror_mode": {
    "name": "ipython",
    "version": 3
   },
   "file_extension": ".py",
   "mimetype": "text/x-python",
   "name": "python",
   "nbconvert_exporter": "python",
   "pygments_lexer": "ipython3",
   "version": "3.7.7"
  }
 },
 "nbformat": 4,
 "nbformat_minor": 4
}
