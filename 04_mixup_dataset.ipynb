{
 "cells": [
  {
   "cell_type": "code",
   "execution_count": 1,
   "metadata": {},
   "outputs": [],
   "source": [
    "%load_ext autoreload\n",
    "%autoreload 2\n",
    "\n",
    "%matplotlib inline"
   ]
  },
  {
   "cell_type": "code",
   "execution_count": 2,
   "metadata": {},
   "outputs": [],
   "source": [
    "#export\n",
    "from exp.nb_03 import *"
   ]
  },
  {
   "cell_type": "code",
   "execution_count": 3,
   "metadata": {},
   "outputs": [],
   "source": [
    "path= Path('../PCImages')\n",
    "path2fm= '../FeatureMatsMerged/TheGreatCollection.txt'\n",
    "path2colnames= 'FeatureMatIndex.txt'"
   ]
  },
  {
   "cell_type": "code",
   "execution_count": 4,
   "metadata": {},
   "outputs": [
    {
     "data": {
      "text/plain": [
       "(56657, 105)"
      ]
     },
     "execution_count": 4,
     "metadata": {},
     "output_type": "execute_result"
    }
   ],
   "source": [
    "fm= fm_from_txt(path2fm, path2colnames)\n",
    "fm.shape"
   ]
  },
  {
   "cell_type": "code",
   "execution_count": 5,
   "metadata": {},
   "outputs": [
    {
     "data": {
      "text/plain": [
       "44"
      ]
     },
     "execution_count": 5,
     "metadata": {},
     "output_type": "execute_result"
    }
   ],
   "source": [
    "cols_filtered=get_filtered_cols(fm)\n",
    "len(cols_filtered)"
   ]
  },
  {
   "cell_type": "markdown",
   "metadata": {},
   "source": [
    "## Mixup dataset"
   ]
  },
  {
   "cell_type": "code",
   "execution_count": 16,
   "metadata": {},
   "outputs": [],
   "source": [
    "#export\n",
    "from PIL import Image"
   ]
  },
  {
   "cell_type": "code",
   "execution_count": 6,
   "metadata": {},
   "outputs": [],
   "source": [
    "#export\n",
    "class NumpyToFloatTensor(object): \n",
    "    def __call__(self, img): return torch.from_numpy(img)"
   ]
  },
  {
   "cell_type": "code",
   "execution_count": 156,
   "metadata": {},
   "outputs": [],
   "source": [
    "#export\n",
    "class CellMixUpDataSet(Dataset):\n",
    "    def __init__(self, path, fm, cols2keep, label = 'label1', mixup_cs=[.4, .3, .3], trfms=None, random_sample=None):\n",
    "        self.fm = fm\n",
    "        self.cols2keep= cols2keep\n",
    "        self.y = self.fm[label]\n",
    "        self.id2label= id2label(self.fm.id, self.y)\n",
    "        self.all_data_files = get_filtered_files(path, img_ids=self.fm.id, labels=self.y) \n",
    "        self.data_files= self.all_data_files\n",
    "        if random_sample is not None: self.data_files= random.sample(self.data_files, random_sample)\n",
    "\n",
    "        self.trfms = get_trfms(trfms)\n",
    "        self.cs= mixup_cs\n",
    "\n",
    "    def __len__(self):\n",
    "        return len(self.data_files)\n",
    "    \n",
    "    def get_row(self, img_id):\n",
    "        x_np= np.array(self.fm.loc[self.fm['id'].isin([img_id])][self.cols2keep]).flatten() \n",
    "        return torch.cuda.FloatTensor(x_np)\n",
    "    \n",
    "    def __getitem__(self, i):\n",
    "        img_name  =        self.data_files[i]\n",
    "        img_id, phase =    split_fn(img_name)\n",
    "        label=             self.id2label[img_id]\n",
    "        img_names=         [f for f in self.all_data_files if img_id in split_fn(f)[0]]\n",
    "        img1, img2, img3 = [io.imread(name) for name in img_names]\n",
    "        image=             self.cs[0]*img1 + self.cs[1]*img2 + self.cs[2]*img3\n",
    "        fm_row=            self.get_row(img_id)\n",
    "        image=             Image.fromarray(np.uint8(image))\n",
    "        if self.trfms:\n",
    "            image = self.trfms(image)\n",
    "        return image, fm_row, label"
   ]
  },
  {
   "cell_type": "code",
   "execution_count": 150,
   "metadata": {},
   "outputs": [
    {
     "name": "stdout",
     "output_type": "stream",
     "text": [
      "0 tensor(1.2704, device='cuda:0') tensor(0.6300, device='cuda:0')\n"
     ]
    }
   ],
   "source": [
    "ds= CellMixUpDataSet(path, fm, cols_filtered, label = 'label1', \n",
    "               trfms= [CenterCrop(size=350), \n",
    "                       transforms.Grayscale(num_output_channels=1), \n",
    "                       ToFloatTensor()], \n",
    "               random_sample=1000)\n",
    "learn= Learner(ds, CombinedModel(50,10, p=0.5))\n",
    "learn.fit(1, bs=8, lr=1e-5)"
   ]
  },
  {
   "cell_type": "code",
   "execution_count": 155,
   "metadata": {},
   "outputs": [
    {
     "name": "stdout",
     "output_type": "stream",
     "text": [
      "0 tensor(1.2347, device='cuda:0') tensor(0.6450, device='cuda:0')\n"
     ]
    }
   ],
   "source": [
    "ds= CellMixUpDataSet(path, fm, cols_filtered, label = 'label1', \n",
    "                mixup_cs=[.5, .25, .25],\n",
    "                trfms= [CenterCrop(size=350), \n",
    "                       transforms.Grayscale(num_output_channels=1), \n",
    "                       ToFloatTensor()], \n",
    "                random_sample=1000)\n",
    "learn= Learner(ds, CombinedModel(50,10, p=0.5))\n",
    "learn.fit(1, bs=8, lr=1e-5)"
   ]
  },
  {
   "cell_type": "code",
   "execution_count": 157,
   "metadata": {},
   "outputs": [
    {
     "name": "stdout",
     "output_type": "stream",
     "text": [
      "Converted 04_mixup_dataset.ipynb to exp/nb_04.py\r\n"
     ]
    }
   ],
   "source": [
    "!python notebook2script.py 04_mixup_dataset.ipynb"
   ]
  },
  {
   "cell_type": "code",
   "execution_count": null,
   "metadata": {},
   "outputs": [],
   "source": []
  }
 ],
 "metadata": {
  "kernelspec": {
   "display_name": "Python 3",
   "language": "python",
   "name": "python3"
  },
  "language_info": {
   "codemirror_mode": {
    "name": "ipython",
    "version": 3
   },
   "file_extension": ".py",
   "mimetype": "text/x-python",
   "name": "python",
   "nbconvert_exporter": "python",
   "pygments_lexer": "ipython3",
   "version": "3.7.7"
  }
 },
 "nbformat": 4,
 "nbformat_minor": 4
}
