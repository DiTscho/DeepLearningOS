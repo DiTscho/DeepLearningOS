{
 "cells": [
  {
   "cell_type": "code",
   "execution_count": 1,
   "metadata": {},
   "outputs": [],
   "source": [
    "%load_ext autoreload\n",
    "%autoreload 2\n",
    "\n",
    "%matplotlib inline"
   ]
  },
  {
   "cell_type": "code",
   "execution_count": 2,
   "metadata": {},
   "outputs": [],
   "source": [
    "#export\n",
    "from exp.nb_01 import *"
   ]
  },
  {
   "cell_type": "code",
   "execution_count": 3,
   "metadata": {},
   "outputs": [],
   "source": [
    "path= Path('../PCImages')"
   ]
  },
  {
   "cell_type": "code",
   "execution_count": 4,
   "metadata": {},
   "outputs": [],
   "source": [
    "path2fm= '../FeatureMatsMerged/TheGreatCollection.txt'\n",
    "path2colnames= 'FeatureMatIndex.txt'"
   ]
  },
  {
   "cell_type": "code",
   "execution_count": 5,
   "metadata": {},
   "outputs": [
    {
     "data": {
      "text/plain": [
       "(56657, 105)"
      ]
     },
     "execution_count": 5,
     "metadata": {},
     "output_type": "execute_result"
    }
   ],
   "source": [
    "fm= fm_from_txt(path2fm, path2colnames)\n",
    "fm.shape"
   ]
  },
  {
   "cell_type": "code",
   "execution_count": 6,
   "metadata": {},
   "outputs": [],
   "source": [
    "#export\n",
    "class ToFloatTensor(object): \n",
    "    def __call__(self, img): return torch.from_numpy(np.array(img, dtype=np.float32, copy=False))"
   ]
  },
  {
   "cell_type": "code",
   "execution_count": 8,
   "metadata": {},
   "outputs": [],
   "source": [
    "ds= CellDataSet(path, fm, label = 'label1', cell_phase = None, \n",
    "               trfms= [CenterCrop(), ToFloatTensor(), transforms.Normalize([0.5], [0.5])], \n",
    "               random_sample=100)"
   ]
  },
  {
   "cell_type": "code",
   "execution_count": 9,
   "metadata": {},
   "outputs": [
    {
     "data": {
      "text/plain": [
       "100"
      ]
     },
     "execution_count": 9,
     "metadata": {},
     "output_type": "execute_result"
    }
   ],
   "source": [
    "len(ds)"
   ]
  },
  {
   "cell_type": "code",
   "execution_count": 7,
   "metadata": {},
   "outputs": [],
   "source": [
    "#export\n",
    "import torchvision.models as models\n",
    "from torch import nn"
   ]
  },
  {
   "cell_type": "code",
   "execution_count": 66,
   "metadata": {},
   "outputs": [],
   "source": [
    "#export\n",
    "class Resize(nn.Module):\n",
    "    def __init__(self, size):\n",
    "        super().__init__()\n",
    "        self.size = size\n",
    "\n",
    "    def forward(self, x): return x.view(-1, 1, self.size, self.size)"
   ]
  },
  {
   "cell_type": "code",
   "execution_count": 67,
   "metadata": {},
   "outputs": [],
   "source": [
    "#export\n",
    "def get_model(m, image_size, c = 7):\n",
    "    m.conv1= nn.Conv2d(1, 64, kernel_size=(7, 7), stride=(2, 2), padding=(3, 3), bias=False).cuda()\n",
    "    m.fc= nn.Linear(in_features=512, out_features=c).cuda()\n",
    "    return nn.Sequential(\n",
    "        Resize(image_size),\n",
    "        m\n",
    "    )"
   ]
  },
  {
   "cell_type": "code",
   "execution_count": 13,
   "metadata": {},
   "outputs": [],
   "source": [
    "model = get_model(models.resnet34(pretrained=True).cuda(), image_size=256, c=7)"
   ]
  },
  {
   "cell_type": "code",
   "execution_count": 11,
   "metadata": {},
   "outputs": [],
   "source": [
    "#export\n",
    "def accuracy(outb, yb): return (torch.argmax(outb, dim=1)==yb).float().mean()"
   ]
  },
  {
   "cell_type": "code",
   "execution_count": 70,
   "metadata": {},
   "outputs": [],
   "source": [
    "#export\n",
    "device = torch.device('cuda',0)"
   ]
  },
  {
   "cell_type": "code",
   "execution_count": 21,
   "metadata": {},
   "outputs": [],
   "source": [
    "#export\n",
    "class Learner():\n",
    "    def __init__(self, dataset, model):\n",
    "        self.ds= dataset \n",
    "        self.img_size, self.c= self.ds[0][0].shape[0], len(np.unique(self.ds.y))\n",
    "        self.model= get_model(model.cuda(), image_size=self.img_size, c=self.c)\n",
    "        self.loss= nn.CrossEntropyLoss()\n",
    "        \n",
    "    def fit(self, epochs=1, bs=32, lr = 1e-5):\n",
    "        opt= torch.optim.Adam(self.model.parameters(), lr=lr)\n",
    "        train_dl, valid_dl= ds2dls(self.ds, bs=bs)\n",
    "        for epoch in range(epochs):\n",
    "            self.model.train()\n",
    "            for xb,yb in train_dl:\n",
    "                xb= xb.to(device)\n",
    "                yb= yb.to(device)\n",
    "                loss = self.loss(self.model(xb), yb)\n",
    "                loss.backward()\n",
    "                opt.step()\n",
    "                opt.zero_grad()\n",
    "\n",
    "            self.model.eval()\n",
    "            with torch.no_grad():\n",
    "                tot_loss,tot_acc = 0.,0.\n",
    "                for xb,yb in valid_dl:\n",
    "                    xb= xb.to(device)\n",
    "                    yb= yb.to(device)\n",
    "                    pred = self.model(xb)\n",
    "                    pred= pred.to(device)\n",
    "                    tot_loss += self.loss(pred, yb)\n",
    "                    tot_acc  += accuracy(pred,yb)\n",
    "            nv = len(valid_dl)\n",
    "            print(epoch, tot_loss/nv, tot_acc/nv)\n",
    "        #return tot_loss/nv, tot_acc/nv"
   ]
  },
  {
   "cell_type": "markdown",
   "metadata": {},
   "source": [
    "### Grayscale normalization:"
   ]
  },
  {
   "cell_type": "code",
   "execution_count": 25,
   "metadata": {},
   "outputs": [],
   "source": [
    "ds= CellDataSet(path, fm, label = 'label1', cell_phase = None, trfms= [CenterCrop(size=256//2), ToFloatTensor()], \n",
    "               random_sample=1000)\n",
    "learn= Learner(ds, models.resnet34(pretrained=True))"
   ]
  },
  {
   "cell_type": "code",
   "execution_count": 26,
   "metadata": {},
   "outputs": [
    {
     "name": "stdout",
     "output_type": "stream",
     "text": [
      "0 tensor(1.9066, device='cuda:0') tensor(0.3221, device='cuda:0')\n",
      "1 tensor(1.5821, device='cuda:0') tensor(0.4663, device='cuda:0')\n"
     ]
    }
   ],
   "source": [
    "learn.fit(2, bs=16)"
   ]
  },
  {
   "cell_type": "code",
   "execution_count": 27,
   "metadata": {},
   "outputs": [
    {
     "name": "stdout",
     "output_type": "stream",
     "text": [
      "0 tensor(1.4205, device='cuda:0') tensor(0.4712, device='cuda:0')\n",
      "1 tensor(1.1595, device='cuda:0') tensor(0.5769, device='cuda:0')\n"
     ]
    }
   ],
   "source": [
    "ds= CellDataSet(path, fm, label = 'label1', cell_phase = None, \n",
    "               trfms= [CenterCrop(size=128), transforms.Grayscale(num_output_channels=1), ToFloatTensor()], \n",
    "               random_sample=1000)\n",
    "learn= Learner(ds, models.resnet34(pretrained=True))\n",
    "learn.fit(2, bs=16)"
   ]
  },
  {
   "cell_type": "markdown",
   "metadata": {},
   "source": [
    "### Image size:"
   ]
  },
  {
   "cell_type": "code",
   "execution_count": 58,
   "metadata": {},
   "outputs": [
    {
     "data": {
      "image/png": "[encoded data removed]",
      "text/plain": [
       "<Figure size 432x288 with 1 Axes>"
      ]
     },
     "metadata": {
      "needs_background": "light"
     },
     "output_type": "display_data"
    }
   ],
   "source": [
    "plt.imshow(ds[0][0].numpy(), cmap='gray');"
   ]
  },
  {
   "cell_type": "code",
   "execution_count": 28,
   "metadata": {},
   "outputs": [
    {
     "name": "stdout",
     "output_type": "stream",
     "text": [
      "0 tensor(1.9318, device='cuda:0') tensor(0.2788, device='cuda:0')\n",
      "1 tensor(1.8042, device='cuda:0') tensor(0.3750, device='cuda:0')\n"
     ]
    }
   ],
   "source": [
    "ds= CellDataSet(path, fm, label = 'label1', cell_phase = None, \n",
    "               trfms= [CenterCrop(size=128), \n",
    "                       transforms.Grayscale(num_output_channels=1), \n",
    "                       ToFloatTensor()], \n",
    "               random_sample=1000)\n",
    "learn= Learner(ds, models.resnet34(pretrained=True))\n",
    "learn.fit(2, bs=16)"
   ]
  },
  {
   "cell_type": "code",
   "execution_count": 29,
   "metadata": {},
   "outputs": [
    {
     "name": "stdout",
     "output_type": "stream",
     "text": [
      "0 tensor(1.5330, device='cuda:0') tensor(0.4712, device='cuda:0')\n",
      "1 tensor(1.1586, device='cuda:0') tensor(0.6202, device='cuda:0')\n"
     ]
    }
   ],
   "source": [
    "ds= CellDataSet(path, fm, label = 'label1', cell_phase = None, \n",
    "               trfms= [CenterCrop(size=256), \n",
    "                       transforms.Grayscale(num_output_channels=1), \n",
    "                       ToFloatTensor()], \n",
    "               random_sample=1000)\n",
    "learn= Learner(ds, models.resnet34(pretrained=True))\n",
    "learn.fit(2, bs=16)"
   ]
  },
  {
   "cell_type": "code",
   "execution_count": 30,
   "metadata": {},
   "outputs": [
    {
     "name": "stdout",
     "output_type": "stream",
     "text": [
      "0 tensor(1.1083, device='cuda:0') tensor(0.6202, device='cuda:0')\n",
      "1 tensor(0.8912, device='cuda:0') tensor(0.7163, device='cuda:0')\n"
     ]
    }
   ],
   "source": [
    "ds= CellDataSet(path, fm, label = 'label1', cell_phase = None, \n",
    "               trfms= [CenterCrop(size=300), \n",
    "                       transforms.Grayscale(num_output_channels=1), \n",
    "                       ToFloatTensor()], \n",
    "               random_sample=1000)\n",
    "learn= Learner(ds, models.resnet34(pretrained=True))\n",
    "learn.fit(2, bs=16)"
   ]
  },
  {
   "cell_type": "code",
   "execution_count": 32,
   "metadata": {},
   "outputs": [
    {
     "name": "stdout",
     "output_type": "stream",
     "text": [
      "0 tensor(1.1273, device='cuda:0') tensor(0.5433, device='cuda:0')\n",
      "1 tensor(0.8559, device='cuda:0') tensor(0.7260, device='cuda:0')\n"
     ]
    }
   ],
   "source": [
    "ds= CellDataSet(path, fm, label = 'label1', cell_phase = None, \n",
    "               trfms= [CenterCrop(size=400), \n",
    "                       transforms.Grayscale(num_output_channels=1), \n",
    "                       ToFloatTensor()], \n",
    "               random_sample=1000)\n",
    "learn= Learner(ds, models.resnet34(pretrained=True))\n",
    "learn.fit(2, bs=16)"
   ]
  },
  {
   "cell_type": "code",
   "execution_count": 33,
   "metadata": {},
   "outputs": [
    {
     "name": "stdout",
     "output_type": "stream",
     "text": [
      "0 tensor(1.2644, device='cuda:0') tensor(0.5865, device='cuda:0')\n",
      "1 tensor(1.0266, device='cuda:0') tensor(0.6731, device='cuda:0')\n"
     ]
    }
   ],
   "source": [
    "ds= CellDataSet(path, fm, label = 'label1', cell_phase = None, \n",
    "               trfms= [CenterCrop(size=324), \n",
    "                       transforms.Grayscale(num_output_channels=1), \n",
    "                       ToFloatTensor()], \n",
    "               random_sample=1000)\n",
    "learn= Learner(ds, models.resnet34(pretrained=True))\n",
    "learn.fit(2, bs=16)"
   ]
  },
  {
   "cell_type": "code",
   "execution_count": 31,
   "metadata": {},
   "outputs": [
    {
     "name": "stdout",
     "output_type": "stream",
     "text": [
      "0 tensor(0.9999, device='cuda:0') tensor(0.6587, device='cuda:0')\n",
      "1 tensor(0.8308, device='cuda:0') tensor(0.7308, device='cuda:0')\n"
     ]
    }
   ],
   "source": [
    "ds= CellDataSet(path, fm, label = 'label1', cell_phase = None, \n",
    "               trfms= [CenterCrop(size=350), \n",
    "                       transforms.Grayscale(num_output_channels=1), \n",
    "                       ToFloatTensor()], \n",
    "               random_sample=1000)\n",
    "learn= Learner(ds, models.resnet34(pretrained=True))\n",
    "learn.fit(2, bs=16)"
   ]
  },
  {
   "cell_type": "markdown",
   "metadata": {},
   "source": [
    "### Cell phase:"
   ]
  },
  {
   "cell_type": "code",
   "execution_count": 59,
   "metadata": {},
   "outputs": [
    {
     "name": "stdout",
     "output_type": "stream",
     "text": [
      "0 tensor(1.0499, device='cuda:0') tensor(0.6202, device='cuda:0')\n",
      "1 tensor(0.8433, device='cuda:0') tensor(0.6923, device='cuda:0')\n"
     ]
    }
   ],
   "source": [
    "ds= CellDataSet(path, fm, label = 'label1', cell_phase = 'trap', \n",
    "               trfms= [CenterCrop(size=350), \n",
    "                       transforms.Grayscale(num_output_channels=1), \n",
    "                       ToFloatTensor()], \n",
    "               random_sample=1000)\n",
    "learn= Learner(ds, models.resnet34(pretrained=True))\n",
    "learn.fit(2, bs=16)"
   ]
  },
  {
   "cell_type": "code",
   "execution_count": 60,
   "metadata": {},
   "outputs": [
    {
     "name": "stdout",
     "output_type": "stream",
     "text": [
      "0 tensor(1.3196, device='cuda:0') tensor(0.5240, device='cuda:0')\n",
      "1 tensor(0.9930, device='cuda:0') tensor(0.6683, device='cuda:0')\n"
     ]
    }
   ],
   "source": [
    "ds= CellDataSet(path, fm, label = 'label1', cell_phase = 'stretch', \n",
    "               trfms= [CenterCrop(size=350), \n",
    "                       transforms.Grayscale(num_output_channels=1), \n",
    "                       ToFloatTensor()], \n",
    "               random_sample=1000)\n",
    "learn= Learner(ds, models.resnet34(pretrained=True))\n",
    "learn.fit(2, bs=16)"
   ]
  },
  {
   "cell_type": "code",
   "execution_count": 61,
   "metadata": {},
   "outputs": [
    {
     "name": "stdout",
     "output_type": "stream",
     "text": [
      "0 tensor(1.2336, device='cuda:0') tensor(0.6202, device='cuda:0')\n",
      "1 tensor(1.0020, device='cuda:0') tensor(0.6875, device='cuda:0')\n"
     ]
    }
   ],
   "source": [
    "ds= CellDataSet(path, fm, label = 'label1', cell_phase = 'relax', \n",
    "               trfms= [CenterCrop(size=350), \n",
    "                       transforms.Grayscale(num_output_channels=1), \n",
    "                       ToFloatTensor()], \n",
    "               random_sample=1000)\n",
    "learn= Learner(ds, models.resnet34(pretrained=True))\n",
    "learn.fit(2, bs=16)"
   ]
  },
  {
   "cell_type": "markdown",
   "metadata": {},
   "source": [
    "### Learning rate:"
   ]
  },
  {
   "cell_type": "code",
   "execution_count": 62,
   "metadata": {},
   "outputs": [
    {
     "name": "stdout",
     "output_type": "stream",
     "text": [
      "0 tensor(0.7182, device='cuda:0') tensor(0.7500, device='cuda:0')\n",
      "1 tensor(0.9469, device='cuda:0') tensor(0.6971, device='cuda:0')\n"
     ]
    }
   ],
   "source": [
    "ds= CellDataSet(path, fm, label = 'label1', cell_phase = 'relax', \n",
    "               trfms= [CenterCrop(size=350), \n",
    "                       transforms.Grayscale(num_output_channels=1), \n",
    "                       ToFloatTensor()], \n",
    "               random_sample=1000)\n",
    "learn= Learner(ds, models.resnet34(pretrained=True))\n",
    "learn.fit(2, bs=16, lr=1e-4)"
   ]
  },
  {
   "cell_type": "code",
   "execution_count": 63,
   "metadata": {},
   "outputs": [
    {
     "name": "stdout",
     "output_type": "stream",
     "text": [
      "0 tensor(0.7900, device='cuda:0') tensor(0.7500, device='cuda:0')\n",
      "1 tensor(0.9047, device='cuda:0') tensor(0.6683, device='cuda:0')\n"
     ]
    }
   ],
   "source": [
    "learn.fit(2, bs=16, lr=1e-4)"
   ]
  },
  {
   "cell_type": "code",
   "execution_count": 64,
   "metadata": {},
   "outputs": [
    {
     "name": "stdout",
     "output_type": "stream",
     "text": [
      "0 tensor(1.9658, device='cuda:0') tensor(0.2308, device='cuda:0')\n",
      "1 tensor(1.8275, device='cuda:0') tensor(0.3077, device='cuda:0')\n",
      "2 tensor(1.7147, device='cuda:0') tensor(0.3413, device='cuda:0')\n",
      "3 tensor(1.6297, device='cuda:0') tensor(0.3654, device='cuda:0')\n"
     ]
    }
   ],
   "source": [
    "ds= CellDataSet(path, fm, label = 'label1', cell_phase = 'relax', \n",
    "               trfms= [CenterCrop(size=350), \n",
    "                       transforms.Grayscale(num_output_channels=1), \n",
    "                       ToFloatTensor()], \n",
    "               random_sample=1000)\n",
    "learn= Learner(ds, models.resnet34(pretrained=True))\n",
    "learn.fit(4, bs=16, lr=1e-6)"
   ]
  },
  {
   "cell_type": "markdown",
   "metadata": {},
   "source": [
    "### Try DenseNet:"
   ]
  },
  {
   "cell_type": "code",
   "execution_count": 8,
   "metadata": {},
   "outputs": [],
   "source": [
    "class Resize(nn.Module):\n",
    "    def __init__(self, size):\n",
    "        super().__init__()\n",
    "        self.size = size\n",
    "\n",
    "    def forward(self, x): return x.view(-1, 1, self.size, self.size)"
   ]
  },
  {
   "cell_type": "code",
   "execution_count": 9,
   "metadata": {},
   "outputs": [],
   "source": [
    "def get_model(m, image_size, c = 7):\n",
    "    m.features.conv0= nn.Conv2d(1, 96, kernel_size=(7, 7), stride=(2, 2), padding=(3, 3), bias=False).cuda()\n",
    "    m.classifier= nn.Linear(in_features=2208, out_features=c, bias=True).cuda()\n",
    "    return nn.Sequential(\n",
    "        Resize(image_size),\n",
    "        m\n",
    "    )"
   ]
  },
  {
   "cell_type": "code",
   "execution_count": 18,
   "metadata": {},
   "outputs": [
    {
     "name": "stdout",
     "output_type": "stream",
     "text": [
      "0 tensor(0.9877, device='cuda:0') tensor(0.6750, device='cuda:0')\n",
      "1 tensor(1.1561, device='cuda:0') tensor(0.6000, device='cuda:0')\n",
      "2 tensor(0.9258, device='cuda:0') tensor(0.6875, device='cuda:0')\n",
      "3 tensor(0.8233, device='cuda:0') tensor(0.6500, device='cuda:0')\n"
     ]
    }
   ],
   "source": [
    "ds= CellDataSet(path, fm, label = 'label1', cell_phase = 'trap',\n",
    "               trfms= [CenterCrop(size=256), transforms.Grayscale(num_output_channels=1), ToFloatTensor()], \n",
    "               random_sample=400)\n",
    "learn= Learner(ds, models.densenet161(pretrained=True))\n",
    "learn.fit(4, bs=4, lr=1e-4)"
   ]
  },
  {
   "cell_type": "markdown",
   "metadata": {},
   "source": [
    "## Optimized parameters:"
   ]
  },
  {
   "cell_type": "code",
   "execution_count": 65,
   "metadata": {},
   "outputs": [
    {
     "name": "stdout",
     "output_type": "stream",
     "text": [
      "0 tensor(1.1905, device='cuda:0') tensor(0.6490, device='cuda:0')\n",
      "1 tensor(0.8972, device='cuda:0') tensor(0.7500, device='cuda:0')\n",
      "2 tensor(0.8266, device='cuda:0') tensor(0.7500, device='cuda:0')\n",
      "3 tensor(0.7322, device='cuda:0') tensor(0.7740, device='cuda:0')\n",
      "4 tensor(0.7843, device='cuda:0') tensor(0.7308, device='cuda:0')\n",
      "5 tensor(0.6908, device='cuda:0') tensor(0.7692, device='cuda:0')\n",
      "6 tensor(0.7016, device='cuda:0') tensor(0.7548, device='cuda:0')\n",
      "7 tensor(0.7003, device='cuda:0') tensor(0.7548, device='cuda:0')\n"
     ]
    }
   ],
   "source": [
    "ds= CellDataSet(path, fm, label = 'label1', cell_phase = None, \n",
    "               trfms= [CenterCrop(size=350), \n",
    "                       transforms.Grayscale(num_output_channels=1), \n",
    "                       ToFloatTensor()], \n",
    "               random_sample=1000)\n",
    "learn= Learner(ds, models.resnet34(pretrained=True))\n",
    "learn.fit(8, bs=16, lr=1e-5)"
   ]
  },
  {
   "cell_type": "code",
   "execution_count": 71,
   "metadata": {},
   "outputs": [
    {
     "name": "stdout",
     "output_type": "stream",
     "text": [
      "Converted 02_learner.ipynb to exp/nb_02.py\r\n"
     ]
    }
   ],
   "source": [
    "!python notebook2script.py 02_learner.ipynb"
   ]
  },
  {
   "cell_type": "code",
   "execution_count": null,
   "metadata": {},
   "outputs": [],
   "source": []
  }
 ],
 "metadata": {
  "kernelspec": {
   "display_name": "Python 3",
   "language": "python",
   "name": "python3"
  },
  "language_info": {
   "codemirror_mode": {
    "name": "ipython",
    "version": 3
   },
   "file_extension": ".py",
   "mimetype": "text/x-python",
   "name": "python",
   "nbconvert_exporter": "python",
   "pygments_lexer": "ipython3",
   "version": "3.7.7"
  }
 },
 "nbformat": 4,
 "nbformat_minor": 4
}
