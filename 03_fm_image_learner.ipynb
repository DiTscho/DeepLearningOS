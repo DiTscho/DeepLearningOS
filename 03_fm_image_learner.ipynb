{
 "cells": [
  {
   "cell_type": "code",
   "execution_count": 1,
   "metadata": {},
   "outputs": [],
   "source": [
    "%load_ext autoreload\n",
    "%autoreload 2\n",
    "\n",
    "%matplotlib inline"
   ]
  },
  {
   "cell_type": "code",
   "execution_count": 6,
   "metadata": {},
   "outputs": [],
   "source": [
    "#export\n",
    "from exp.nb_02 import *"
   ]
  },
  {
   "cell_type": "code",
   "execution_count": 3,
   "metadata": {},
   "outputs": [],
   "source": [
    "path= Path('../PCImages')\n",
    "path2fm= '../FeatureMatsMerged/TheGreatCollection.txt'\n",
    "path2colnames= 'FeatureMatIndex.txt'"
   ]
  },
  {
   "cell_type": "code",
   "execution_count": 4,
   "metadata": {},
   "outputs": [
    {
     "data": {
      "text/plain": [
       "(56657, 105)"
      ]
     },
     "execution_count": 4,
     "metadata": {},
     "output_type": "execute_result"
    }
   ],
   "source": [
    "fm= fm_from_txt(path2fm, path2colnames)\n",
    "fm.shape"
   ]
  },
  {
   "cell_type": "code",
   "execution_count": 27,
   "metadata": {},
   "outputs": [
    {
     "data": {
      "text/html": [
       "<div>\n",
       "<style scoped>\n",
       "    .dataframe tbody tr th:only-of-type {\n",
       "        vertical-align: middle;\n",
       "    }\n",
       "\n",
       "    .dataframe tbody tr th {\n",
       "        vertical-align: top;\n",
       "    }\n",
       "\n",
       "    .dataframe thead th {\n",
       "        text-align: right;\n",
       "    }\n",
       "</style>\n",
       "<table border=\"1\" class=\"dataframe\">\n",
       "  <thead>\n",
       "    <tr style=\"text-align: right;\">\n",
       "      <th></th>\n",
       "      <th>id</th>\n",
       "      <th>date</th>\n",
       "      <th>time</th>\n",
       "      <th>label1</th>\n",
       "      <th>label2</th>\n",
       "      <th>label3</th>\n",
       "      <th>ind</th>\n",
       "      <th>wallcrash</th>\n",
       "      <th>temp</th>\n",
       "      <th>LP</th>\n",
       "      <th>...</th>\n",
       "      <th>err_peKV_ElRel_2s</th>\n",
       "      <th>E_aKV_ElRel_2s</th>\n",
       "      <th>eta_aKV_ElRel_2s</th>\n",
       "      <th>Act_aKV_ElRel_2s</th>\n",
       "      <th>err_aKV_ElRel_2s</th>\n",
       "      <th>E_aeKV_ElRel_2s</th>\n",
       "      <th>E2_aeKV_ElRel_2s</th>\n",
       "      <th>eta_aeKV_ElRel_2s</th>\n",
       "      <th>Act_aeKV_ElRel_2s</th>\n",
       "      <th>err_aeKV_ElRel_2s</th>\n",
       "    </tr>\n",
       "  </thead>\n",
       "  <tbody>\n",
       "    <tr>\n",
       "      <th>0</th>\n",
       "      <td>180322140137</td>\n",
       "      <td>180322.0</td>\n",
       "      <td>140137.0</td>\n",
       "      <td>0</td>\n",
       "      <td>100.0</td>\n",
       "      <td>0.0</td>\n",
       "      <td>1.0</td>\n",
       "      <td>0.000000</td>\n",
       "      <td>18.00</td>\n",
       "      <td>875.0</td>\n",
       "      <td>...</td>\n",
       "      <td>0.000840</td>\n",
       "      <td>34.801664</td>\n",
       "      <td>33.466240</td>\n",
       "      <td>3.135231e-05</td>\n",
       "      <td>0.000837</td>\n",
       "      <td>3.518287e+01</td>\n",
       "      <td>1091.754900</td>\n",
       "      <td>36.509799</td>\n",
       "      <td>0.000338</td>\n",
       "      <td>0.000819</td>\n",
       "    </tr>\n",
       "    <tr>\n",
       "      <th>1</th>\n",
       "      <td>180322140233</td>\n",
       "      <td>180322.0</td>\n",
       "      <td>140233.0</td>\n",
       "      <td>0</td>\n",
       "      <td>100.0</td>\n",
       "      <td>0.0</td>\n",
       "      <td>2.0</td>\n",
       "      <td>0.000000</td>\n",
       "      <td>18.01</td>\n",
       "      <td>875.0</td>\n",
       "      <td>...</td>\n",
       "      <td>0.000397</td>\n",
       "      <td>29.482185</td>\n",
       "      <td>20.546622</td>\n",
       "      <td>2.180137e-07</td>\n",
       "      <td>0.002530</td>\n",
       "      <td>1.576053e-07</td>\n",
       "      <td>64.210986</td>\n",
       "      <td>111.861860</td>\n",
       "      <td>0.000031</td>\n",
       "      <td>0.000343</td>\n",
       "    </tr>\n",
       "    <tr>\n",
       "      <th>2</th>\n",
       "      <td>180322140601</td>\n",
       "      <td>180322.0</td>\n",
       "      <td>140601.0</td>\n",
       "      <td>0</td>\n",
       "      <td>100.0</td>\n",
       "      <td>0.0</td>\n",
       "      <td>3.0</td>\n",
       "      <td>38.956936</td>\n",
       "      <td>17.98</td>\n",
       "      <td>875.0</td>\n",
       "      <td>...</td>\n",
       "      <td>0.028127</td>\n",
       "      <td>17.579015</td>\n",
       "      <td>3.970008</td>\n",
       "      <td>1.079131e+00</td>\n",
       "      <td>0.012464</td>\n",
       "      <td>1.876191e+01</td>\n",
       "      <td>210.278410</td>\n",
       "      <td>4.268777</td>\n",
       "      <td>1.056558</td>\n",
       "      <td>0.012754</td>\n",
       "    </tr>\n",
       "    <tr>\n",
       "      <th>3</th>\n",
       "      <td>180322140713</td>\n",
       "      <td>180322.0</td>\n",
       "      <td>140713.0</td>\n",
       "      <td>0</td>\n",
       "      <td>100.0</td>\n",
       "      <td>0.0</td>\n",
       "      <td>4.0</td>\n",
       "      <td>0.000000</td>\n",
       "      <td>17.99</td>\n",
       "      <td>875.0</td>\n",
       "      <td>...</td>\n",
       "      <td>0.000750</td>\n",
       "      <td>62.245363</td>\n",
       "      <td>39.791365</td>\n",
       "      <td>2.516519e-01</td>\n",
       "      <td>0.000616</td>\n",
       "      <td>5.171595e+01</td>\n",
       "      <td>993.694250</td>\n",
       "      <td>50.203118</td>\n",
       "      <td>0.320308</td>\n",
       "      <td>0.000632</td>\n",
       "    </tr>\n",
       "    <tr>\n",
       "      <th>4</th>\n",
       "      <td>180322140852</td>\n",
       "      <td>180322.0</td>\n",
       "      <td>140852.0</td>\n",
       "      <td>0</td>\n",
       "      <td>100.0</td>\n",
       "      <td>0.0</td>\n",
       "      <td>5.0</td>\n",
       "      <td>0.000000</td>\n",
       "      <td>17.99</td>\n",
       "      <td>875.0</td>\n",
       "      <td>...</td>\n",
       "      <td>0.002178</td>\n",
       "      <td>28.424611</td>\n",
       "      <td>9.381201</td>\n",
       "      <td>2.280459e-08</td>\n",
       "      <td>0.001762</td>\n",
       "      <td>2.870110e+01</td>\n",
       "      <td>1567.120300</td>\n",
       "      <td>9.746181</td>\n",
       "      <td>0.004185</td>\n",
       "      <td>0.001797</td>\n",
       "    </tr>\n",
       "  </tbody>\n",
       "</table>\n",
       "<p>5 rows × 105 columns</p>\n",
       "</div>"
      ],
      "text/plain": [
       "             id      date      time  label1  label2  label3  ind  wallcrash  \\\n",
       "0  180322140137  180322.0  140137.0       0   100.0     0.0  1.0   0.000000   \n",
       "1  180322140233  180322.0  140233.0       0   100.0     0.0  2.0   0.000000   \n",
       "2  180322140601  180322.0  140601.0       0   100.0     0.0  3.0  38.956936   \n",
       "3  180322140713  180322.0  140713.0       0   100.0     0.0  4.0   0.000000   \n",
       "4  180322140852  180322.0  140852.0       0   100.0     0.0  5.0   0.000000   \n",
       "\n",
       "    temp     LP  ...  err_peKV_ElRel_2s  E_aKV_ElRel_2s  eta_aKV_ElRel_2s  \\\n",
       "0  18.00  875.0  ...           0.000840       34.801664         33.466240   \n",
       "1  18.01  875.0  ...           0.000397       29.482185         20.546622   \n",
       "2  17.98  875.0  ...           0.028127       17.579015          3.970008   \n",
       "3  17.99  875.0  ...           0.000750       62.245363         39.791365   \n",
       "4  17.99  875.0  ...           0.002178       28.424611          9.381201   \n",
       "\n",
       "   Act_aKV_ElRel_2s  err_aKV_ElRel_2s  E_aeKV_ElRel_2s  E2_aeKV_ElRel_2s  \\\n",
       "0      3.135231e-05          0.000837     3.518287e+01       1091.754900   \n",
       "1      2.180137e-07          0.002530     1.576053e-07         64.210986   \n",
       "2      1.079131e+00          0.012464     1.876191e+01        210.278410   \n",
       "3      2.516519e-01          0.000616     5.171595e+01        993.694250   \n",
       "4      2.280459e-08          0.001762     2.870110e+01       1567.120300   \n",
       "\n",
       "   eta_aeKV_ElRel_2s  Act_aeKV_ElRel_2s  err_aeKV_ElRel_2s  \n",
       "0          36.509799           0.000338           0.000819  \n",
       "1         111.861860           0.000031           0.000343  \n",
       "2           4.268777           1.056558           0.012754  \n",
       "3          50.203118           0.320308           0.000632  \n",
       "4           9.746181           0.004185           0.001797  \n",
       "\n",
       "[5 rows x 105 columns]"
      ]
     },
     "execution_count": 27,
     "metadata": {},
     "output_type": "execute_result"
    }
   ],
   "source": [
    "fm.head()"
   ]
  },
  {
   "cell_type": "code",
   "execution_count": 77,
   "metadata": {},
   "outputs": [],
   "source": [
    "cols= ['id',\n",
    " 'date',\n",
    " 'time',\n",
    " 'label1',\n",
    " 'label2',\n",
    " 'label3',\n",
    " 'ind',\n",
    " 'wallcrash',\n",
    " 'temp',\n",
    " 'LP',\n",
    " 'HL',\n",
    " 't_stretch',\n",
    " 't_relax',\n",
    " 'framecut',\n",
    " 'fps',\n",
    " 'medium',\n",
    " 'passage',\n",
    " 'ms_ch1',\n",
    " 'mf_ch1',\n",
    " 'mf_real_ch1',\n",
    " 'cv_nn_ch1',\n",
    " 'cvn_ch1',\n",
    " 'ms_ch2',\n",
    " 'mf_ch2',\n",
    " 'mf_real_ch2',\n",
    " 'cv_nn_ch2',\n",
    " 'cvn_ch2']"
   ]
  },
  {
   "cell_type": "code",
   "execution_count": 78,
   "metadata": {},
   "outputs": [
    {
     "data": {
      "text/plain": [
       "(56657, 78)"
      ]
     },
     "execution_count": 78,
     "metadata": {},
     "output_type": "execute_result"
    }
   ],
   "source": [
    "fm_filtered= fm.drop(columns=cols)\n",
    "fm_filtered.shape"
   ]
  },
  {
   "cell_type": "code",
   "execution_count": 35,
   "metadata": {},
   "outputs": [
    {
     "data": {
      "text/plain": [
       "PosixPath('../PCImages/171220_170148_stretch.png')"
      ]
     },
     "execution_count": 35,
     "metadata": {},
     "output_type": "execute_result"
    }
   ],
   "source": [
    "img_name= get_filtered_files(path, img_ids=fm.id, labels=fm.label1)[0] \n",
    "img_name"
   ]
  },
  {
   "cell_type": "code",
   "execution_count": 37,
   "metadata": {},
   "outputs": [
    {
     "data": {
      "text/plain": [
       "('171220170148', 'stretch')"
      ]
     },
     "execution_count": 37,
     "metadata": {},
     "output_type": "execute_result"
    }
   ],
   "source": [
    "img_id, phase = split_fn(img_name)\n",
    "img_id, phase"
   ]
  },
  {
   "cell_type": "code",
   "execution_count": 74,
   "metadata": {},
   "outputs": [],
   "source": [
    "r=np.array(fm.loc[fm['id'].isin(['171220170148'])]).flatten()"
   ]
  },
  {
   "cell_type": "code",
   "execution_count": 79,
   "metadata": {},
   "outputs": [],
   "source": [
    "def get_row():\n",
    "    pass"
   ]
  },
  {
   "cell_type": "code",
   "execution_count": null,
   "metadata": {},
   "outputs": [],
   "source": []
  },
  {
   "cell_type": "code",
   "execution_count": 7,
   "metadata": {},
   "outputs": [
    {
     "name": "stdout",
     "output_type": "stream",
     "text": [
      "0 tensor(1.2644, device='cuda:0') tensor(0.5433, device='cuda:0')\n"
     ]
    }
   ],
   "source": [
    "ds= CellDataSet(path, fm, label = 'label1', cell_phase = None, \n",
    "               trfms= [CenterCrop(size=350), \n",
    "                       transforms.Grayscale(num_output_channels=1), \n",
    "                       ToFloatTensor()], \n",
    "               random_sample=1000)\n",
    "learn= Learner(ds, models.resnet34(pretrained=True))\n",
    "learn.fit(1, bs=16, lr=1e-5)"
   ]
  },
  {
   "cell_type": "code",
   "execution_count": null,
   "metadata": {},
   "outputs": [],
   "source": [
    "class CellDataSet(Dataset):\n",
    "    def __init__(self, path, fm, label = 'label1', cell_phase = None, trfms=None, random_sample=None):\n",
    "        self.fm = fm\n",
    "        self.y = self.fm[label]\n",
    "        self.id2label= id2label(self.fm.id, self.y)\n",
    "        if cell_phase is None:\n",
    "            self.data_files = get_filtered_files(path, img_ids=self.fm.id, labels=self.y) \n",
    "        else: \n",
    "            self.data_files= [\n",
    "                f for f in get_filtered_files(path, img_ids=self.fm.id, labels=self.y) if cell_phase in str(f)\n",
    "            ]\n",
    "        if random_sample is not None: self.data_files= random.sample(self.data_files, random_sample)\n",
    "        self.trfms = get_trfms(trfms)\n",
    "        \n",
    "    def __getindex__(self, idx):\n",
    "        return load_file(self.data_files[idx])\n",
    "\n",
    "    def __len__(self):\n",
    "        return len(self.data_files)\n",
    "    \n",
    "    def __getitem__(self, idx):\n",
    "        if torch.is_tensor(idx):\n",
    "            idx = idx.tolist()\n",
    "        \n",
    "        img_name  = self.data_files[idx]\n",
    "        img_id, phase = split_fn(img_name)\n",
    "        label=          self.id2label[img_id]\n",
    "        image =         PIL.Image.open(img_name)\n",
    "\n",
    "        if self.trfms:\n",
    "            image = self.trfms(image)\n",
    "\n",
    "        return image, label"
   ]
  },
  {
   "cell_type": "markdown",
   "metadata": {},
   "source": [
    "### Concatenate models:"
   ]
  },
  {
   "cell_type": "code",
   "execution_count": 23,
   "metadata": {},
   "outputs": [],
   "source": [
    "class MyModel(nn.Module):\n",
    "    def __init__(self):\n",
    "        super(MyModel, self).__init__()\n",
    "        self.fc0= Resize(350)\n",
    "        self.cnn = models.resnet34(pretrained=True).cuda()\n",
    "        self.cnn.conv1= nn.Conv2d(1, 64, kernel_size=(7, 7), stride=(2, 2), padding=(3, 3), bias=False).cuda()\n",
    "        self.cnn.fc= nn.Linear(in_features=512, out_features=7).cuda()\n",
    "        \n",
    "        #self.fc1 = nn.Linear(20 + 10, 60)\n",
    "        #self.fc2 = nn.Linear(60, 5)\n",
    "        \n",
    "    def forward(self, image): #, data):\n",
    "        x0= self.fc0(image).cuda()\n",
    "        x1 = self.cnn(x0)\n",
    "        #x2 = data\n",
    "        \n",
    "        #x = torch.cat((x1, x2), dim=1)\n",
    "        #x = F.relu(self.fc1(x))\n",
    "        #x = self.fc2(x)\n",
    "        return x1\n",
    "        "
   ]
  },
  {
   "cell_type": "code",
   "execution_count": 24,
   "metadata": {},
   "outputs": [],
   "source": [
    "class Learner():\n",
    "    def __init__(self, dataset, model):\n",
    "        self.ds= dataset \n",
    "        self.img_size, self.c= self.ds[0][0].shape[0], len(np.unique(self.ds.y))\n",
    "        self.model= model #get_model(model.cuda(), image_size=self.img_size, c=self.c)\n",
    "        self.loss= nn.CrossEntropyLoss()\n",
    "        \n",
    "    def fit(self, epochs=1, bs=32, lr = 1e-5):\n",
    "        opt= torch.optim.Adam(self.model.parameters(), lr=lr)\n",
    "        train_dl, valid_dl= ds2dls(self.ds, bs=bs)\n",
    "        for epoch in range(epochs):\n",
    "            self.model.train()\n",
    "            for xb,yb in train_dl:\n",
    "                xb= xb.to(device)\n",
    "                yb= yb.to(device)\n",
    "                loss = self.loss(self.model(xb), yb)\n",
    "                loss.backward()\n",
    "                opt.step()\n",
    "                opt.zero_grad()\n",
    "\n",
    "            self.model.eval()\n",
    "            with torch.no_grad():\n",
    "                tot_loss,tot_acc = 0.,0.\n",
    "                for xb,yb in valid_dl:\n",
    "                    xb= xb.to(device)\n",
    "                    yb= yb.to(device)\n",
    "                    pred = self.model(xb)\n",
    "                    pred= pred.to(device)\n",
    "                    tot_loss += self.loss(pred, yb)\n",
    "                    tot_acc  += accuracy(pred,yb)\n",
    "            nv = len(valid_dl)\n",
    "            print(epoch, tot_loss/nv, tot_acc/nv)\n",
    "        #return tot_loss/nv, tot_acc/nv"
   ]
  },
  {
   "cell_type": "code",
   "execution_count": 26,
   "metadata": {},
   "outputs": [
    {
     "name": "stdout",
     "output_type": "stream",
     "text": [
      "0 tensor(1.1742, device='cuda:0') tensor(0.6154, device='cuda:0')\n"
     ]
    }
   ],
   "source": [
    "ds= CellDataSet(path, fm, label = 'label1', cell_phase = None, \n",
    "               trfms= [CenterCrop(size=350), \n",
    "                       transforms.Grayscale(num_output_channels=1), \n",
    "                       ToFloatTensor()], \n",
    "               random_sample=1000)\n",
    "learn= Learner(ds, MyModel())\n",
    "learn.fit(1, bs=16, lr=1e-5)"
   ]
  },
  {
   "cell_type": "code",
   "execution_count": null,
   "metadata": {},
   "outputs": [],
   "source": [
    "model = MyModel()\n",
    "\n",
    "batch_size = 2\n",
    "image = torch.randn(batch_size, 3, 299, 299)\n",
    "data = torch.randn(batch_size, 10)\n",
    "\n",
    "output = model(image, data)"
   ]
  },
  {
   "cell_type": "code",
   "execution_count": null,
   "metadata": {},
   "outputs": [],
   "source": [
    "def get_model(m, image_size, c = 7):\n",
    "    m.conv1= nn.Conv2d(1, 64, kernel_size=(7, 7), stride=(2, 2), padding=(3, 3), bias=False).cuda()\n",
    "    m.fc= nn.Linear(in_features=512, out_features=c).cuda()\n",
    "    return nn.Sequential(\n",
    "        Resize(image_size),\n",
    "        m\n",
    "    )"
   ]
  }
 ],
 "metadata": {
  "kernelspec": {
   "display_name": "Python 3",
   "language": "python",
   "name": "python3"
  },
  "language_info": {
   "codemirror_mode": {
    "name": "ipython",
    "version": 3
   },
   "file_extension": ".py",
   "mimetype": "text/x-python",
   "name": "python",
   "nbconvert_exporter": "python",
   "pygments_lexer": "ipython3",
   "version": "3.7.7"
  }
 },
 "nbformat": 4,
 "nbformat_minor": 4
}
